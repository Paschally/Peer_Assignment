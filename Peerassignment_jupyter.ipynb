"My Jupyter Notebook on IBM Watson Studio"
My name is Paschal Ugochukwu
I am a Data Scientist
I am Interested in Data Science because it enables businesses make decisions that can bring in more profit. Also, it presents many career fields that are exciting

Next line of code will multiply to integers
Example 2 muliplied by 3

2*3
​
6
